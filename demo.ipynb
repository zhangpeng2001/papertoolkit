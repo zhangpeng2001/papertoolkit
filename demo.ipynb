{
 "cells": [
  {
   "cell_type": "markdown",
   "metadata": {},
   "source": [
    "Doadload CVPR papers"
   ]
  },
  {
   "cell_type": "code",
   "execution_count": 1,
   "metadata": {},
   "outputs": [],
   "source": [
    "from conference import CVPR\n",
    "\n",
    "year = '2023'\n",
    "save_papers_path = 'C:\\papers'\n",
    "\n",
    "task = '2d_object_detection'\n",
    "include_keywords = [('object detection',),]\n",
    "exclude_keywords = [('nerf',), ('3D object detection',)]\n",
    "\n",
    "cvpr = CVPR(year, save_papers_path)\n",
    "cvpr.analyse_conference(task, include_keywords, exclude_keywords)\n"
   ]
  },
  {
   "cell_type": "markdown",
   "metadata": {},
   "source": [
    "Downlaod ICCV papers"
   ]
  },
  {
   "cell_type": "code",
   "execution_count": null,
   "metadata": {},
   "outputs": [],
   "source": [
    "from conference import ICCV\n",
    "\n",
    "year = '2023'\n",
    "save_papers_path = 'C:\\papers'\n",
    "\n",
    "task = '2d_object_detection'\n",
    "include_keywords = [('object detection',),]\n",
    "exclude_keywords = [('nerf',), ('3D object detection',)]\n",
    "\n",
    "iccv = ICCV(year, save_papers_path)\n",
    "iccv.analyse_conference(task, include_keywords, exclude_keywords)\n"
   ]
  },
  {
   "cell_type": "markdown",
   "metadata": {},
   "source": [
    "Downlaod NeurIPS"
   ]
  },
  {
   "cell_type": "code",
   "execution_count": null,
   "metadata": {},
   "outputs": [],
   "source": [
    "from conference import NeurIPS\n",
    "\n",
    "year = '2023'\n",
    "save_papers_path = 'C:\\papers'\n",
    "\n",
    "task = '2d_object_detection'\n",
    "include_keywords = [('object detection',),]\n",
    "exclude_keywords = [('nerf',), ('3D object detection',)]\n",
    "\n",
    "neurips = NeurIPS(year, save_papers_path)\n",
    "neurips.analyse_conference(task, include_keywords, exclude_keywords)\n"
   ]
  }
 ],
 "metadata": {
  "kernelspec": {
   "display_name": "website",
   "language": "python",
   "name": "python3"
  },
  "language_info": {
   "codemirror_mode": {
    "name": "ipython",
    "version": 3
   },
   "file_extension": ".py",
   "mimetype": "text/x-python",
   "name": "python",
   "nbconvert_exporter": "python",
   "pygments_lexer": "ipython3",
   "version": "3.8.16"
  },
  "orig_nbformat": 4
 },
 "nbformat": 4,
 "nbformat_minor": 2
}
