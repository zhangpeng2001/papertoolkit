{
 "cells": [
  {
   "cell_type": "markdown",
   "metadata": {},
   "source": [
    "Doadload CVPR papers"
   ]
  },
  {
   "cell_type": "code",
   "execution_count": 1,
   "metadata": {},
   "outputs": [],
   "source": [
    "from conference import CVFConference\n",
    "\n",
    "conference = 'CVPR2023'\n",
    "conference_path = 'C:\\papers'\n",
    "\n",
    "task = 'object_detection'\n",
    "include_keywords = [('object detection','coco'),]\n",
    "exclude_keywords = [('nerf',)]\n",
    "\n",
    "cvf = CVFConference(conference, conference_path)\n",
    "cvf.analyse_conference(task, include_keywords, exclude_keywords)\n"
   ]
  },
  {
   "cell_type": "markdown",
   "metadata": {},
   "source": [
    "Downlaod ICCV papers"
   ]
  },
  {
   "cell_type": "code",
   "execution_count": null,
   "metadata": {},
   "outputs": [],
   "source": [
    "from conference import CVFConference\n",
    "\n",
    "conference = 'ICCV2022'\n",
    "conference_path = 'C:\\papers'\n",
    "\n",
    "task = 'object_detection'\n",
    "include_keywords = [('object detection','coco'),]\n",
    "exclude_keywords = [('nerf',)]\n",
    "\n",
    "cvf = CVFConference(conference, conference_path)\n",
    "cvf.analyse_conference(task, include_keywords, exclude_keywords)\n"
   ]
  }
 ],
 "metadata": {
  "kernelspec": {
   "display_name": "website",
   "language": "python",
   "name": "python3"
  },
  "language_info": {
   "codemirror_mode": {
    "name": "ipython",
    "version": 3
   },
   "file_extension": ".py",
   "mimetype": "text/x-python",
   "name": "python",
   "nbconvert_exporter": "python",
   "pygments_lexer": "ipython3",
   "version": "3.8.16"
  },
  "orig_nbformat": 4
 },
 "nbformat": 4,
 "nbformat_minor": 2
}
